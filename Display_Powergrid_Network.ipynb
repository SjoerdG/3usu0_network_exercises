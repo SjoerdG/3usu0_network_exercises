{
 "cells": [
  {
   "cell_type": "code",
   "execution_count": 1,
   "metadata": {},
   "outputs": [],
   "source": [
    "### This script will display the network in its entirety. \n",
    "### If you want you can enable physics for drawing the network\n",
    "### and display the physics buttons to find a good visualization.\n",
    "### If you want to visualize a local region of the network you \n",
    "### can use the third script.\n",
    "\n",
    "from pyvis.network import Network\n",
    "from pathlib import Path\n",
    "import networkx as nx\n",
    "import time\n",
    "\n",
    "t = time.time()\n",
    "folder = Path()\n",
    "\n",
    "power_grid_gml_file = folder / \"powergrid.gml\"\n",
    "\n",
    "### Read the gml file as a graph\n",
    "power_grid_graph = nx.read_gml(power_grid_gml_file)\n",
    "\n",
    "### Create a pyvis network from the graph\n",
    "power_grid_network = Network(\"800px\", width=\"100%\", bgcolor=\"#222222\", font_color=\"white\", \\\n",
    "                        heading=\"Powergrid Network\")\n",
    "power_grid_network.from_nx(power_grid_graph)\n",
    "\n",
    "### Manipulate note attributes for display purposes\n",
    "for node in power_grid_network.nodes:\n",
    "    ### We first set the size of the node to be equal to its degree\n",
    "    node[\"size\"] = power_grid_graph.degree[node[\"id\"]]\n",
    "    \n",
    "    ### We then set the title to be the name of the person in bold\n",
    "    node[\"title\"] = \"<b>\" + node[\"id\"] + \"</b>\"\n",
    "    \n",
    "### Comment the next line to enable the physics for drawing the graph\n",
    "power_grid_network.toggle_physics(False)\n",
    "\n",
    "### You can control the physics in the output page by uncommenting the next line\n",
    "### By switching of the \"Physics Enabled\" box the nodes will stop moving\n",
    "#power_grid_network.show_buttons(filter_=['physics'])\n",
    "\n",
    "power_grid_network.show(\"power_grid.html\")"
   ]
  },
  {
   "cell_type": "code",
   "execution_count": 2,
   "metadata": {},
   "outputs": [],
   "source": [
    "import random as rnd\n",
    "\n",
    "def compute_local_neighborhood(G,node,size):\n",
    "    if (node not in G.nodes):\n",
    "        idx = int(rnd.uniform(0, len(G.nodes)))\n",
    "        node = list(G.nodes)[idx]\n",
    "    \n",
    "    if (size <= 0):\n",
    "        size = 2\n",
    "        \n",
    "    local_graph = nx.Graph()\n",
    "    \n",
    "    \n",
    "    current_size = 0\n",
    "    \n",
    "    current_neighborhood = set()\n",
    "    next_neighborhood = set()\n",
    "    \n",
    "    current_neighborhood.add(node)\n",
    "    \n",
    "    while current_size < size:\n",
    "        current_size += 1\n",
    "        for node in current_neighborhood:\n",
    "            neighbors = G.adj[node]\n",
    "            local_graph.add_node(node)\n",
    "            for neighbor in neighbors:\n",
    "                local_graph.add_edge(node,neighbor)\n",
    "                next_neighborhood.add(neighbor)\n",
    "        \n",
    "        current_neighborhood = next_neighborhood.copy()\n",
    "        next_neighborhood = set()\n",
    "        \n",
    "    \n",
    "    return local_graph"
   ]
  },
  {
   "cell_type": "code",
   "execution_count": 3,
   "metadata": {},
   "outputs": [],
   "source": [
    "### This script will draw a subnetwork of the entire network. For this\n",
    "### it will take a node [root_node] and look at the neighborhood up to\n",
    "### size [size_of_neighborhood]. If this size is 1, it will only show\n",
    "### the neighbors. For size 2 it will also show all the neighbors of the\n",
    "### neighbors. And so on. If no root_node is specified a random node will\n",
    "### be selected that has degree > 0.\n",
    "### NOTE: do not forget to run the script above so that the function\n",
    "### compute_local_neighborhood is defined.\n",
    "\n",
    "from pyvis.network import Network\n",
    "from pathlib import Path\n",
    "import networkx as nx\n",
    "import random as rnd\n",
    "\n",
    "root_node = -1\n",
    "size_of_neighborhood = 5\n",
    "\n",
    "folder = Path()\n",
    "\n",
    "power_grid_gml_file = folder / \"powergrid.gml\"\n",
    "\n",
    "### Read the gml file as a graph\n",
    "power_grid_graph = nx.read_gml(power_grid_gml_file)\n",
    "\n",
    "### If the specified root is not in the graph we select a node with\n",
    "### degree > 0 at random\n",
    "if (root_node not in power_grid_graph.nodes):\n",
    "    idx = int(rnd.uniform(0, len(power_grid_graph.nodes)))\n",
    "    root_node = list(power_grid_graph.nodes)[idx]\n",
    "    while (power_grid_graph.degree[root_node] <= 0):\n",
    "        idx = int(rnd.uniform(0, len(power_grid_graph.nodes)))\n",
    "        root_node = list(power_grid_graph.nodes)[idx]\n",
    "\n",
    "heading = f\"Powergrid Network, Local view from: {root_node} of size {size_of_neighborhood}\"\n",
    "\n",
    "small_power_grid_graph = compute_local_neighborhood(power_grid_graph,root_node,size_of_neighborhood)\n",
    "\n",
    "### Create a pyvis network from the graph\n",
    "small_power_grid_network = Network(\"800px\", width=\"100%\", bgcolor=\"#222222\", font_color=\"white\", \\\n",
    "                           heading=heading)\n",
    "small_power_grid_network.from_nx(small_power_grid_graph)\n",
    "\n",
    "### Manipulate note attributes for display purposes\n",
    "for node in small_power_grid_network.nodes:\n",
    "    if (node[\"id\"] == root_node):\n",
    "        node.update({'x':0, 'y':0, 'color':'red'})\n",
    "        node[\"size\"] = 20\n",
    "    else:\n",
    "        node[\"size\"] = 10\n",
    "\n",
    "    ### We set the title to be the name of the node in bold\n",
    "    node[\"title\"] = \"<b>\" + node[\"label\"] + \"</b>\"\n",
    "    \n",
    "    ### Finally we set the label property to display the id of the node\n",
    "    node[\"label\"] = node[\"id\"]\n",
    "    \n",
    "### Comment the next line to enable the physics for drawing the graph\n",
    "small_power_grid_network.toggle_physics(False)\n",
    "\n",
    "### You can control the physics in the output page by uncommenting the next line\n",
    "### By switching of the \"Physics Enabled\" box the nodes will stop moving\n",
    "#small_power_grid_network.show_buttons(filter_=['physics'])\n",
    "\n",
    "small_power_grid_network.show(\"power_grid_local.html\")"
   ]
  },
  {
   "cell_type": "markdown",
   "metadata": {},
   "source": [
    "# Assignment 2 #"
   ]
  },
  {
   "cell_type": "markdown",
   "metadata": {},
   "source": [
    "### Computing the average degree ###"
   ]
  },
  {
   "cell_type": "code",
   "execution_count": 4,
   "metadata": {},
   "outputs": [
    {
     "name": "stdout",
     "output_type": "stream",
     "text": [
      "The average degree is 2.66909532483303.\n"
     ]
    }
   ],
   "source": [
    "degree_sequence = [degree for node, degree in power_grid_graph.degree()]\n",
    "average_degree = sum(degree_sequence)/len(degree_sequence)\n",
    "print(f'The average degree is {average_degree}.')"
   ]
  },
  {
   "cell_type": "markdown",
   "metadata": {},
   "source": [
    "### Computing the average clustering ###"
   ]
  },
  {
   "cell_type": "code",
   "execution_count": 5,
   "metadata": {},
   "outputs": [
    {
     "name": "stdout",
     "output_type": "stream",
     "text": [
      "The average clustering is 0.08010361108159711.\n"
     ]
    }
   ],
   "source": [
    "average_clustering = nx.average_clustering(power_grid_graph)\n",
    "print(f'The average clustering is {average_clustering}.')"
   ]
  },
  {
   "cell_type": "markdown",
   "metadata": {},
   "source": [
    "### Computing the average distance ###"
   ]
  },
  {
   "cell_type": "code",
   "execution_count": 6,
   "metadata": {},
   "outputs": [
    {
     "name": "stdout",
     "output_type": "stream",
     "text": [
      "The average distance is 18.989185424445708.\n"
     ]
    }
   ],
   "source": [
    "average_distance = nx.average_shortest_path_length(power_grid_graph)\n",
    "print(f'The average distance is {average_distance}.')"
   ]
  },
  {
   "cell_type": "markdown",
   "metadata": {},
   "source": [
    "### Computing the diameter ###"
   ]
  },
  {
   "cell_type": "code",
   "execution_count": 7,
   "metadata": {},
   "outputs": [
    {
     "name": "stdout",
     "output_type": "stream",
     "text": [
      "The diameter is 46.\n"
     ]
    }
   ],
   "source": [
    "diameter = nx.diameter(power_grid_graph)\n",
    "print(f'The diameter is {diameter}.')"
   ]
  },
  {
   "cell_type": "markdown",
   "metadata": {},
   "source": []
  },
  {
   "cell_type": "markdown",
   "metadata": {},
   "source": [
    "# Assignment 3#\n",
    "compute the degree distribution, second moment and third moment"
   ]
  },
  {
   "cell_type": "code",
   "execution_count": 15,
   "metadata": {},
   "outputs": [
    {
     "data": {
      "image/png": "[encoded data removed]",
      "text/plain": [
       "<Figure size 432x288 with 1 Axes>"
      ]
     },
     "metadata": {
      "needs_background": "light"
     },
     "output_type": "display_data"
    },
    {
     "name": "stdout",
     "output_type": "stream",
     "text": [
      "second degree is 10.332726168791742\n",
      "third degree is 57.29326047358834\n"
     ]
    }
   ],
   "source": [
    "import matplotlib.pyplot as plt\n",
    "import numpy as np\n",
    "\n",
    "degree_sequence = [degree for node, degree in power_grid_graph.degree()]\n",
    "\n",
    "max_degree = max(degree_sequence)\n",
    "degree_density = [0]*(max_degree+1)\n",
    "\n",
    "\n",
    "for degree in degree_sequence:\n",
    "    degree_density[degree] += 1/len(power_grid_graph)\n",
    "\n",
    "\n",
    "\n",
    "x = np.arange(max_degree+2)\n",
    "density, bin_edges = np.histogram(degree_sequence,bins=x,density=True)\n",
    "\n",
    "\n",
    "\n",
    "plt.bar(x[:-1],density)\n",
    "plt.xticks(x[:-1])\n",
    "plt.title('Degree distribution')\n",
    "plt.xlabel('Degrees k')\n",
    "plt.ylabel('p_k')\n",
    "plt.show()\n",
    "\n",
    "\n",
    "s2 = 0\n",
    "for node in power_grid_graph.nodes:\n",
    "    s2 += power_grid_graph.degree[node] ** 2\n",
    "print(f\"second degree is {s2/len(power_grid_graph)}\")\n",
    "second_degree = s2/len(power_grid_graph)\n",
    "s = 0\n",
    "for node in power_grid_graph.nodes:\n",
    "    s += power_grid_graph.degree[node] ** 3\n",
    "print(f\"third degree is {s/len(power_grid_graph)}\")\n"
   ]
  },
  {
   "cell_type": "markdown",
   "metadata": {},
   "source": [
    "# Assignment 4#\n",
    "compute the degree distibution for 100 random nodes"
   ]
  },
  {
   "cell_type": "code",
   "execution_count": 9,
   "metadata": {
    "scrolled": true
   },
   "outputs": [
    {
     "data": {
      "image/png": "[encoded data removed]",
      "text/plain": [
       "<Figure size 432x288 with 1 Axes>"
      ]
     },
     "metadata": {
      "needs_background": "light"
     },
     "output_type": "display_data"
    },
    {
     "name": "stdout",
     "output_type": "stream",
     "text": [
      "The average distance is 19.044444444444444.\n"
     ]
    }
   ],
   "source": [
    "list_power_grid = list(power_grid_graph)\n",
    "sample_power_grid = rnd.sample(list_power_grid, k=100)\n",
    "\n",
    "sample_degree_sequence = [degree for node, degree in power_grid_graph.degree(sample_power_grid)]\n",
    "\n",
    "\n",
    "sample_max_degree = max(sample_degree_sequence)\n",
    "sample_degree_density = [0]*(max_degree+1)\n",
    "\n",
    "for degree in sample_degree_sequence:\n",
    "    sample_degree_density[degree] += 1/len(power_grid_graph)\n",
    "\n",
    "\n",
    "\n",
    "x = np.arange(sample_max_degree+2)\n",
    "density, bin_edges = np.histogram(sample_degree_sequence,bins=x,density=True)\n",
    "\n",
    "\n",
    "\n",
    "plt.bar(x[:-1],density)\n",
    "plt.xticks(x[:-1])\n",
    "plt.title('Degree distribution for 100 samples')\n",
    "plt.xlabel('Degrees k')\n",
    "plt.ylabel('p_k')\n",
    "plt.show()\n",
    "\n",
    "\n",
    "#this is probably a really shitty algorithm nut  i can't find a nice NetworkX function that does the same \n",
    "#so this is a nested loop that runs dijkstra's algorithm 100000 times\n",
    "sample_sum_distance = 0\n",
    "for i in range(0,100):\n",
    "    for j in range(0,100):\n",
    "        sample_sum_distance += nx.shortest_path_length(power_grid_graph, source=sample_power_grid[i], target=sample_power_grid[j])\n",
    "\n",
    "sample_average_distance = sample_sum_distance /((len(sample_power_grid)-1)*len(sample_power_grid))\n",
    "print(f'The average distance is {sample_average_distance}.')\n"
   ]
  },
  {
   "cell_type": "markdown",
   "metadata": {},
   "source": [
    "# Assignment 5#\n",
    "describe the structure of the network"
   ]
  },
  {
   "cell_type": "markdown",
   "metadata": {},
   "source": [
    "# Assignment 6#\n",
    "make a random network and calculate it's characteristics"
   ]
  },
  {
   "cell_type": "code",
   "execution_count": 10,
   "metadata": {},
   "outputs": [
    {
     "name": "stdout",
     "output_type": "stream",
     "text": [
      "The average degree is 2.66909532483303.\n",
      "The diameter of component 1 is 24\n",
      "The diameter of component 2 is 1\n",
      "The diameter of component 3 is 2\n",
      "The diameter of component 4 is 1\n",
      "The diameter of component 5 is 1\n",
      "The diameter of component 6 is 2\n",
      "The diameter of component 7 is 2\n",
      "The diameter of component 8 is 4\n",
      "The diameter of component 9 is 1\n",
      "The diameter of component 10 is 2\n",
      "The diameter of component 11 is 1\n",
      "The diameter of component 12 is 2\n",
      "The diameter of component 13 is 1\n",
      "The diameter of component 14 is 2\n",
      "The diameter of component 15 is 1\n",
      "The diameter of component 16 is 2\n",
      "The diameter of component 17 is 1\n",
      "The diameter of component 18 is 1\n",
      "The diameter of component 19 is 1\n",
      "The diameter of component 20 is 1\n",
      "The diameter of component 21 is 1\n",
      "The diameter of component 22 is 6\n",
      "The diameter of component 23 is 1\n",
      "The diameter of component 24 is 4\n",
      "The diameter of component 25 is 1\n",
      "The diameter of component 26 is 2\n",
      "The diameter of component 27 is 1\n",
      "The diameter of component 28 is 1\n",
      "The diameter of component 29 is 1\n",
      "The diameter of component 30 is 1\n",
      "The diameter of component 31 is 1\n",
      "The diameter of component 32 is 1\n",
      "The diameter of component 33 is 1\n",
      "The diameter of component 34 is 1\n",
      "The diameter of component 35 is 2\n",
      "The diameter of component 36 is 1\n",
      "The diameter of component 37 is 1\n",
      "The diameter of component 38 is 5\n",
      "The diameter of component 39 is 2\n",
      "The diameter of component 40 is 1\n",
      "The diameter of component 41 is 2\n",
      "The diameter of component 42 is 2\n",
      "The diameter of component 43 is 2\n",
      "The diameter of component 44 is 2\n",
      "The diameter of component 45 is 1\n",
      "The diameter of component 46 is 1\n",
      "The diameter of component 47 is 3\n",
      "The diameter of component 48 is 1\n",
      "The diameter of component 49 is 1\n",
      "The diameter of component 50 is 2\n",
      "The diameter of component 51 is 1\n",
      "The diameter of component 52 is 1\n",
      "The diameter of component 53 is 1\n",
      "The diameter of component 54 is 1\n",
      "The diameter of component 55 is 3\n",
      "The diameter of component 56 is 2\n",
      "The diameter of component 57 is 1\n",
      "The diameter of component 58 is 1\n",
      "The diameter of component 59 is 3\n",
      "The diameter of component 60 is 1\n",
      "The diameter of component 61 is 1\n",
      "The diameter of component 62 is 1\n",
      "The diameter of component 63 is 1\n",
      "The diameter of component 64 is 1\n",
      "The diameter of component 65 is 1\n",
      "The diameter of component 66 is 1\n",
      "The diameter of component 67 is 1\n",
      "The diameter of component 68 is 1\n",
      "The diameter of component 69 is 2\n",
      "The diameter of component 70 is 1\n"
     ]
    }
   ],
   "source": [
    "\n",
    "\n",
    "random_network = nx.configuration_model(degree_sequence)\n",
    "\n",
    "rnd_degree_sequence = [degree for node, degree in random_network.degree()]\n",
    "rnd_average_degree = sum(degree_sequence)/len(degree_sequence)\n",
    "print(f'The average degree is {rnd_average_degree}.')\n",
    "\n",
    "component_index = 0\n",
    "for c in nx.connected_components(random_network):\n",
    "    component_index += 1\n",
    "    connected_subgraph = random_network.subgraph(c).copy()\n",
    "    rnd_diameter = nx.diameter(connected_subgraph)\n",
    "    #rnd_average_distance = nx.average_shortest_path_length(connected_subgraph)\n",
    "    #rnd_average_clustering = nx.average_clustering(connected_subgraph)\n",
    "    print(f\"The diameter of component {component_index} is {rnd_diameter}\")\n",
    "\n"
   ]
  },
  {
   "cell_type": "code",
   "execution_count": 11,
   "metadata": {},
   "outputs": [
    {
     "name": "stdout",
     "output_type": "stream",
     "text": [
      "The average distance of component 1 is 8.511800282575075\n",
      "The average distance of component 2 is 1.0\n",
      "The average distance of component 3 is 1.3333333333333333\n",
      "The average distance of component 4 is 1.0\n",
      "The average distance of component 5 is 1.0\n",
      "The average distance of component 6 is 1.3333333333333333\n",
      "The average distance of component 7 is 1.3333333333333333\n",
      "The average distance of component 8 is 2.0\n",
      "The average distance of component 9 is 1.0\n",
      "The average distance of component 10 is 1.3333333333333333\n",
      "The average distance of component 11 is 1.0\n",
      "The average distance of component 12 is 1.5\n",
      "The average distance of component 13 is 1.0\n",
      "The average distance of component 14 is 1.3333333333333333\n",
      "The average distance of component 15 is 1.0\n",
      "The average distance of component 16 is 1.3333333333333333\n",
      "The average distance of component 17 is 1.0\n",
      "The average distance of component 18 is 1.0\n",
      "The average distance of component 19 is 1.0\n",
      "The average distance of component 20 is 1.0\n",
      "The average distance of component 21 is 1.0\n",
      "The average distance of component 22 is 2.6666666666666665\n",
      "The average distance of component 23 is 1.0\n",
      "The average distance of component 24 is 2.1333333333333333\n",
      "The average distance of component 25 is 1.0\n",
      "The average distance of component 26 is 1.3333333333333333\n",
      "The average distance of component 27 is 1.0\n",
      "The average distance of component 28 is 1.0\n",
      "The average distance of component 29 is 1.0\n",
      "The average distance of component 30 is 1.0\n",
      "The average distance of component 31 is 1.0\n",
      "The average distance of component 32 is 1.0\n",
      "The average distance of component 33 is 1.0\n",
      "The average distance of component 34 is 1.0\n",
      "The average distance of component 35 is 1.3333333333333333\n",
      "The average distance of component 36 is 1.0\n",
      "The average distance of component 37 is 1.0\n",
      "The average distance of component 38 is 2.3333333333333335\n",
      "The average distance of component 39 is 1.3333333333333333\n",
      "The average distance of component 40 is 1.0\n",
      "The average distance of component 41 is 1.3333333333333333\n",
      "The average distance of component 42 is 1.3333333333333333\n",
      "The average distance of component 43 is 1.3333333333333333\n",
      "The average distance of component 44 is 1.3333333333333333\n",
      "The average distance of component 45 is 1.0\n",
      "The average distance of component 46 is 1.0\n",
      "The average distance of component 47 is 1.6666666666666667\n",
      "The average distance of component 48 is 1.0\n",
      "The average distance of component 49 is 1.0\n",
      "The average distance of component 50 is 1.3333333333333333\n",
      "The average distance of component 51 is 1.0\n",
      "The average distance of component 52 is 1.0\n",
      "The average distance of component 53 is 1.0\n",
      "The average distance of component 54 is 1.0\n",
      "The average distance of component 55 is 1.6666666666666667\n",
      "The average distance of component 56 is 1.3333333333333333\n",
      "The average distance of component 57 is 1.0\n",
      "The average distance of component 58 is 1.0\n",
      "The average distance of component 59 is 1.6666666666666667\n",
      "The average distance of component 60 is 1.0\n",
      "The average distance of component 61 is 1.0\n",
      "The average distance of component 62 is 1.0\n",
      "The average distance of component 63 is 1.0\n",
      "The average distance of component 64 is 1.0\n",
      "The average distance of component 65 is 1.0\n",
      "The average distance of component 66 is 1.0\n",
      "The average distance of component 67 is 1.0\n",
      "The average distance of component 68 is 1.0\n",
      "The average distance of component 69 is 1.3333333333333333\n",
      "The average distance of component 70 is 1.0\n",
      "total elapesed time:164.1107223033905\n"
     ]
    }
   ],
   "source": [
    "\n",
    "\n",
    "component_index = 0\n",
    "for c in nx.connected_components(random_network):\n",
    "    component_index += 1\n",
    "    connected_subgraph = random_network.subgraph(c).copy()\n",
    "    rnd_average_distance = nx.average_shortest_path_length(connected_subgraph)\n",
    "   \n",
    "    print(f\"The average distance of component {component_index} is {rnd_average_distance}\")\n",
    "    \n",
    "    elapsed = time.time() - t\n",
    "\n",
    "print(f\"total elapesed time:{elapsed}\")"
   ]
  },
  {
   "cell_type": "code",
   "execution_count": 12,
   "metadata": {},
   "outputs": [
    {
     "ename": "NetworkXNotImplemented",
     "evalue": "not implemented for multigraph type",
     "output_type": "error",
     "traceback": [
      "\u001b[0;31m---------------------------------------------------------------------------\u001b[0m",
      "\u001b[0;31mNetworkXNotImplemented\u001b[0m                    Traceback (most recent call last)",
      "\u001b[0;32m<ipython-input-12-27a47fcbcc9c>\u001b[0m in \u001b[0;36m<module>\u001b[0;34m\u001b[0m\n\u001b[0;32m----> 1\u001b[0;31m \u001b[0mrnd_clustering\u001b[0m \u001b[0;34m=\u001b[0m \u001b[0mnx\u001b[0m\u001b[0;34m.\u001b[0m\u001b[0mclustering\u001b[0m\u001b[0;34m(\u001b[0m\u001b[0mrandom_network\u001b[0m\u001b[0;34m)\u001b[0m\u001b[0;34m\u001b[0m\u001b[0;34m\u001b[0m\u001b[0m\n\u001b[0m",
      "\u001b[0;32m/usr/lib/python3.6/site-packages/networkx/algorithms/cluster.py\u001b[0m in \u001b[0;36mclustering\u001b[0;34m(G, nodes, weight)\u001b[0m\n\u001b[1;32m    367\u001b[0m             \u001b[0mclusterc\u001b[0m \u001b[0;34m=\u001b[0m \u001b[0;34m{\u001b[0m\u001b[0mv\u001b[0m\u001b[0;34m:\u001b[0m \u001b[0;36m0\u001b[0m \u001b[0;32mif\u001b[0m \u001b[0mt\u001b[0m \u001b[0;34m==\u001b[0m \u001b[0;36m0\u001b[0m \u001b[0;32melse\u001b[0m \u001b[0mt\u001b[0m \u001b[0;34m/\u001b[0m \u001b[0;34m(\u001b[0m\u001b[0md\u001b[0m \u001b[0;34m*\u001b[0m \u001b[0;34m(\u001b[0m\u001b[0md\u001b[0m \u001b[0;34m-\u001b[0m \u001b[0;36m1\u001b[0m\u001b[0;34m)\u001b[0m\u001b[0;34m)\u001b[0m \u001b[0;32mfor\u001b[0m \u001b[0mv\u001b[0m\u001b[0;34m,\u001b[0m \u001b[0md\u001b[0m\u001b[0;34m,\u001b[0m \u001b[0mt\u001b[0m \u001b[0;32min\u001b[0m \u001b[0mtd_iter\u001b[0m\u001b[0;34m}\u001b[0m\u001b[0;34m\u001b[0m\u001b[0;34m\u001b[0m\u001b[0m\n\u001b[1;32m    368\u001b[0m         \u001b[0;32melse\u001b[0m\u001b[0;34m:\u001b[0m\u001b[0;34m\u001b[0m\u001b[0;34m\u001b[0m\u001b[0m\n\u001b[0;32m--> 369\u001b[0;31m             \u001b[0mtd_iter\u001b[0m \u001b[0;34m=\u001b[0m \u001b[0m_triangles_and_degree_iter\u001b[0m\u001b[0;34m(\u001b[0m\u001b[0mG\u001b[0m\u001b[0;34m,\u001b[0m \u001b[0mnodes\u001b[0m\u001b[0;34m)\u001b[0m\u001b[0;34m\u001b[0m\u001b[0;34m\u001b[0m\u001b[0m\n\u001b[0m\u001b[1;32m    370\u001b[0m             \u001b[0mclusterc\u001b[0m \u001b[0;34m=\u001b[0m \u001b[0;34m{\u001b[0m\u001b[0mv\u001b[0m\u001b[0;34m:\u001b[0m \u001b[0;36m0\u001b[0m \u001b[0;32mif\u001b[0m \u001b[0mt\u001b[0m \u001b[0;34m==\u001b[0m \u001b[0;36m0\u001b[0m \u001b[0;32melse\u001b[0m \u001b[0mt\u001b[0m \u001b[0;34m/\u001b[0m \u001b[0;34m(\u001b[0m\u001b[0md\u001b[0m \u001b[0;34m*\u001b[0m \u001b[0;34m(\u001b[0m\u001b[0md\u001b[0m \u001b[0;34m-\u001b[0m \u001b[0;36m1\u001b[0m\u001b[0;34m)\u001b[0m\u001b[0;34m)\u001b[0m \u001b[0;32mfor\u001b[0m \u001b[0mv\u001b[0m\u001b[0;34m,\u001b[0m \u001b[0md\u001b[0m\u001b[0;34m,\u001b[0m \u001b[0mt\u001b[0m\u001b[0;34m,\u001b[0m \u001b[0m_\u001b[0m \u001b[0;32min\u001b[0m \u001b[0mtd_iter\u001b[0m\u001b[0;34m}\u001b[0m\u001b[0;34m\u001b[0m\u001b[0;34m\u001b[0m\u001b[0m\n\u001b[1;32m    371\u001b[0m     \u001b[0;32mif\u001b[0m \u001b[0mnodes\u001b[0m \u001b[0;32min\u001b[0m \u001b[0mG\u001b[0m\u001b[0;34m:\u001b[0m\u001b[0;34m\u001b[0m\u001b[0;34m\u001b[0m\u001b[0m\n",
      "\u001b[0;32m<decorator-gen-379>\u001b[0m in \u001b[0;36m_triangles_and_degree_iter\u001b[0;34m(G, nodes)\u001b[0m\n",
      "\u001b[0;32m/usr/lib/python3.6/site-packages/networkx/utils/decorators.py\u001b[0m in \u001b[0;36m_not_implemented_for\u001b[0;34m(not_implement_for_func, *args, **kwargs)\u001b[0m\n\u001b[1;32m     74\u001b[0m         \u001b[0;32mif\u001b[0m \u001b[0mmatch\u001b[0m\u001b[0;34m:\u001b[0m\u001b[0;34m\u001b[0m\u001b[0;34m\u001b[0m\u001b[0m\n\u001b[1;32m     75\u001b[0m             \u001b[0mmsg\u001b[0m \u001b[0;34m=\u001b[0m \u001b[0;34mf\"not implemented for {' '.join(graph_types)} type\"\u001b[0m\u001b[0;34m\u001b[0m\u001b[0;34m\u001b[0m\u001b[0m\n\u001b[0;32m---> 76\u001b[0;31m             \u001b[0;32mraise\u001b[0m \u001b[0mnx\u001b[0m\u001b[0;34m.\u001b[0m\u001b[0mNetworkXNotImplemented\u001b[0m\u001b[0;34m(\u001b[0m\u001b[0mmsg\u001b[0m\u001b[0;34m)\u001b[0m\u001b[0;34m\u001b[0m\u001b[0;34m\u001b[0m\u001b[0m\n\u001b[0m\u001b[1;32m     77\u001b[0m         \u001b[0;32melse\u001b[0m\u001b[0;34m:\u001b[0m\u001b[0;34m\u001b[0m\u001b[0;34m\u001b[0m\u001b[0m\n\u001b[1;32m     78\u001b[0m             \u001b[0;32mreturn\u001b[0m \u001b[0mnot_implement_for_func\u001b[0m\u001b[0;34m(\u001b[0m\u001b[0;34m*\u001b[0m\u001b[0margs\u001b[0m\u001b[0;34m,\u001b[0m \u001b[0;34m**\u001b[0m\u001b[0mkwargs\u001b[0m\u001b[0;34m)\u001b[0m\u001b[0;34m\u001b[0m\u001b[0;34m\u001b[0m\u001b[0m\n",
      "\u001b[0;31mNetworkXNotImplemented\u001b[0m: not implemented for multigraph type"
     ]
    }
   ],
   "source": [
    "rnd_clustering = nx.clustering(random_network)"
   ]
  },
  {
   "cell_type": "markdown",
   "metadata": {},
   "source": [
    "# Assignment  7#\n",
    "compute the epidemic threshold of your network of for the SIS and\n",
    "SIR infection models. What does this information tell you about the behavior of\n",
    "infection spreading on your network"
   ]
  },
  {
   "cell_type": "code",
   "execution_count": 22,
   "metadata": {},
   "outputs": [
    {
     "name": "stdout",
     "output_type": "stream",
     "text": [
      "gamma_sis is equal to 0.25831472558467505\n",
      "gamma_sir is equal to 0.34828077959119\n"
     ]
    }
   ],
   "source": [
    "#As calculated in earier assignments\n",
    "gamma_sis = average_degree/second_degree\n",
    "\n",
    "gamma_sir = average_degree/(second_degree-average_degree)\n",
    "\n",
    "print(f'gamma_sis is equal to {gamma_sis}')\n",
    "print(f'gamma_sir is equal to {gamma_sir}')"
   ]
  },
  {
   "cell_type": "markdown",
   "metadata": {},
   "source": [
    "# Assignmnent 8\n",
    "\n",
    "Select 5 different nodes at random in your network. For each of\n",
    "these nodes, run 5 complex contagions with different values of α. For each case,\n",
    "document whether there is a complete cascade or else, how large the number of\n",
    "infected nodes is.4 Visualize the outcome. What does this tell you about the\n",
    "structure of your network"
   ]
  },
  {
   "cell_type": "code",
   "execution_count": 174,
   "metadata": {},
   "outputs": [
    {
     "data": {
      "image/png": "[encoded data removed]",
      "text/plain": [
       "<Figure size 1080x1080 with 5 Axes>"
      ]
     },
     "metadata": {
      "needs_background": "light"
     },
     "output_type": "display_data"
    }
   ],
   "source": [
    "#set infection state for all nodes to 0\n",
    "for node in power_grid_graph.nodes():\n",
    "    power_grid_graph.nodes[node]['infected'] = 0\n",
    "    \n",
    "    \n",
    "\n",
    "\n",
    "## set 5 random notes to infected state\n",
    "start_node = rnd.sample(list(power_grid_graph),5)\n",
    "infected_nodes = set()\n",
    "for x in start_node:\n",
    "    infected_nodes.add(x)\n",
    "    power_grid_graph.nodes[x]['infected'] = 1\n",
    "\n",
    "\n",
    "\n",
    "\n",
    "### In addition we create a list to store the nodes that are infected\n",
    "### at each stage of the complex contagion process\n",
    "infected_nodes_stages = []\n",
    "\n",
    "### We need to have the size of the graph\n",
    "N = power_grid_graph.number_of_nodes()\n",
    "\n",
    "\n",
    "num_new_infections = len(infected_nodes)\n",
    "total_infections = 1\n",
    "\n",
    "infection_iteration = 0\n",
    "\n",
    "### We now start running the complex contagion process. We will iteratively\n",
    "### go through all infected nodes in the graph. For each non-infected \n",
    "### neighbor of an infected node, we check if the total fraction of its\n",
    "### infected neighbors is larger than alpha. If so, then we update the status\n",
    "### of this node to infected.\n",
    "### During each iteration, we keep track of how many new nodes have become\n",
    "### infected.\n",
    "### The iteration ends as soon as all nodes are infected or no new nodes have\n",
    "### become infected during the last round.\n",
    "\n",
    "fig, axs = plt.subplots(5, figsize = (15,15))\n",
    "for y in range (2,7):\n",
    "    alpha=1/y\n",
    "    while (total_infections < N) and (num_new_infections > 0):\n",
    "\n",
    "        num_new_infections = 0\n",
    "        new_infected_nodes = set()\n",
    "        infection_iteration += 1\n",
    "\n",
    "        for node in infected_nodes:\n",
    "\n",
    "            for neighbor in power_grid_graph.adj[node]:\n",
    "\n",
    "                if power_grid_graph.nodes[neighbor]['infected'] == 0:\n",
    "\n",
    "                    number_infected_neighbors = 0\n",
    "                    degree = power_grid_graph.degree[neighbor]\n",
    "\n",
    "                    for second_neighbor in power_grid_graph.adj[neighbor]:\n",
    "                        if power_grid_graph.nodes[second_neighbor]['infected'] == 1:\n",
    "                            number_infected_neighbors += 1\n",
    "\n",
    "                    if number_infected_neighbors/degree >= alpha:\n",
    "\n",
    "                        power_grid_graph.nodes[neighbor]['infected'] = 1\n",
    "                        new_infected_nodes.add(neighbor)\n",
    "                        num_new_infections += 1   \n",
    "        for new_node in new_infected_nodes:\n",
    "            infected_nodes.add(new_node)\n",
    "        if (len(new_infected_nodes) > 0):\n",
    "            infected_nodes_stages.append(new_infected_nodes)\n",
    "            \n",
    "    growth = [len(infected_nodes_stages[0])+5]\n",
    "    for x in range(1,len(infected_nodes_stages)):      \n",
    "        growth.append(len(infected_nodes_stages[x])+growth[x-1])\n",
    "    total_infections = 0\n",
    "    num_new_infections = 5\n",
    "    axs[y-2].plot(range(0,len(growth)),growth)\n",
    "    axs[y-2].set_title(f'alpha = {alpha}')\n",
    "    \n",
    "\n"
   ]
  },
  {
   "cell_type": "markdown",
   "metadata": {},
   "source": [
    "# Assignment 9 \n",
    "Give an example of a relevant process on your network that\n",
    "could be modeled as an infection processes or a complex contagion. Explain your\n",
    "answer."
   ]
  },
  {
   "cell_type": "markdown",
   "metadata": {},
   "source": [
    "one could model power overload with a infection model. If one node fails all other nodes will need to carry a bigger load. thus pottentaly causing a causcading failure of multiple nodes"
   ]
  },
  {
   "cell_type": "code",
   "execution_count": null,
   "metadata": {},
   "outputs": [],
   "source": []
  }
 ],
 "metadata": {
  "kernelspec": {
   "display_name": "Python 3",
   "language": "python",
   "name": "python3"
  },
  "language_info": {
   "codemirror_mode": {
    "name": "ipython",
    "version": 3
   },
   "file_extension": ".py",
   "mimetype": "text/x-python",
   "name": "python",
   "nbconvert_exporter": "python",
   "pygments_lexer": "ipython3",
   "version": "3.6.15"
  }
 },
 "nbformat": 4,
 "nbformat_minor": 4
}
